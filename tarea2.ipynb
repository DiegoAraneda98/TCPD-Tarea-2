{
 "cells": [
  {
   "cell_type": "markdown",
   "metadata": {},
   "source": [
    "# **Tarea 2**\n",
    "\n",
    "## Objetivos\n",
    "Desarrollar una aplicación en Jupyter Notebook que muestre una historia del proceso de preparación\n",
    "y visualización de datos para su posterior análisis, utilizando las herramientas que provee el lenguaje\n",
    "de programación Python a través de las bibliotecas vistas en clases (Numpy, Pandas y Matplotlib).\n",
    "La aplicación a desarrollar debe considerar los siguientes ítems."
   ]
  },
  {
   "cell_type": "markdown",
   "metadata": {},
   "source": [
    "## Tabla de contenidos\n",
    "1. [Adquisición de datos](#0)\n",
    "2. [Limpieza y formateo de datos](#2)"
   ]
  },
  {
   "cell_type": "markdown",
   "metadata": {},
   "source": [
    "## 1. Adquisición de datos  <a id=\"0\"></a>\n",
    "\n",
    "- Para la siguiente tarea se utilizaran dos conjuntos de datos distintos. A continucacion se da a conocer el tipo de dato al cual corresponde cada conjunto:\n",
    "\n",
    "- Tipo de datos de School_Attendance_by_Student_Group: csv\n",
    "- Tipo de datos de School_Attendance_by_Student_Group: csv\n",
    "\n",
    "Para trabajar con estos datos el primer paso es importar la librerias pandas y numpy."
   ]
  },
  {
   "cell_type": "code",
   "execution_count": null,
   "metadata": {},
   "outputs": [],
   "source": [
    "import pandas as pd\n",
    "import numpy as np"
   ]
  },
  {
   "cell_type": "markdown",
   "metadata": {},
   "source": [
    "## Limpieza y formateo de datos <a id=\"2\"></a>\n"
   ]
  },
  {
   "cell_type": "markdown",
   "metadata": {},
   "source": [
    "### 1. Utilizar los métodos pandas.read_xxx() y pandas.to_xxx() para leer y guardar los datos.\n"
   ]
  },
  {
   "cell_type": "code",
   "execution_count": null,
   "metadata": {},
   "outputs": [],
   "source": [
    "# Lee el archivo de entrada mediante pandas y lo asigna a la variable \"df\"\n",
    "\n",
    "ubicacion = \"./datos/breast-cancer.data\"\n",
    "df = pd.read_csv(ubicacion, header=None)"
   ]
  },
  {
   "cell_type": "code",
   "execution_count": null,
   "metadata": {},
   "outputs": [],
   "source": [
    "# Muestra las primeras 10 filas usando el método dataframe.head()\n",
    "\n",
    "print(\"Las primeras 5 filas del dataframe\") \n",
    "df.head(60)"
   ]
  },
  {
   "cell_type": "markdown",
   "metadata": {},
   "source": [
    "### 2. Revisar si los datos de entrada tienen o no un encabezado. De no ser así, corregir esta situación.\n",
    "\n",
    "\n",
    "\n"
   ]
  },
  {
   "cell_type": "code",
   "execution_count": null,
   "metadata": {},
   "outputs": [],
   "source": [
    "# Crea una lista con el encabezado\n",
    "\n",
    "encabezado = [\"symboling\",\"normalized-losses\",\"make\",\"fuel-type\",\"aspiration\",\"num-of-doors\",\"body-style\", \"drive-wheels\",\"engine-location\",\"wheel-base\",\"length\",\"width\",\"height\",\"curb-weight\",\"engine-type\",\"num-of-cylinders\",\"engine-size\",\"fuel-system\",\"bore\",\"stroke\",\"compression-ratio\",\"horsepower\",\"peak-rpm\",\"city-mpg\",\"highway-mpg\",\"price\"]\n",
    "print(\"headers\\n\", encabezado)"
   ]
  },
  {
   "cell_type": "code",
   "execution_count": null,
   "metadata": {},
   "outputs": [],
   "source": [
    "# Se reemplaza el encabezado y se verifica que todo funcionó correctamente\n",
    "\n",
    "df.columns = encabezado\n",
    "df.head(47)"
   ]
  },
  {
   "cell_type": "markdown",
   "metadata": {},
   "source": [
    "### 3. Realizar un análisis básico de los datos de entrada con los métodos .describe() y .info()."
   ]
  },
  {
   "cell_type": "code",
   "execution_count": null,
   "metadata": {},
   "outputs": [],
   "source": []
  },
  {
   "cell_type": "markdown",
   "metadata": {},
   "source": [
    "### 4. Identificar y manipular valores faltantes.\n",
    "\n"
   ]
  },
  {
   "cell_type": "markdown",
   "metadata": {},
   "source": [
    " a) Identificar valores faltantes."
   ]
  },
  {
   "cell_type": "code",
   "execution_count": null,
   "metadata": {},
   "outputs": [],
   "source": []
  },
  {
   "cell_type": "markdown",
   "metadata": {},
   "source": [
    "b) Manipular valores faltantes.\n"
   ]
  }
 ],
 "metadata": {
  "kernelspec": {
   "display_name": "Python 3",
   "language": "python",
   "name": "python3"
  },
  "language_info": {
   "codemirror_mode": {
    "name": "ipython",
    "version": 3
   },
   "file_extension": ".py",
   "mimetype": "text/x-python",
   "name": "python",
   "nbconvert_exporter": "python",
   "pygments_lexer": "ipython3",
   "version": "3.12.1"
  }
 },
 "nbformat": 4,
 "nbformat_minor": 2
}
